{
 "cells": [
  {
   "cell_type": "code",
   "execution_count": 42,
   "metadata": {},
   "outputs": [],
   "source": [
    "from sympy import *\n",
    "from sympy.physics.mechanics import *\n",
    "init_printing(use_latex='mathjax')"
   ]
  },
  {
   "cell_type": "code",
   "execution_count": 58,
   "metadata": {},
   "outputs": [
    {
     "name": "stdout",
     "output_type": "stream",
     "text": [
      "d**2*m*(Derivative(theta1(t), t)**2 + Derivative(theta2(t), t)**2)/6\n",
      "⎡d         ⎤                                                                   ↪\n",
      "⎢──(θ₁(t)) ⎥                                                                   ↪\n",
      "⎢dt        ⎥   ⎡                               d                               ↪\n",
      "⎢          ⎥   ⎢                               ──(θ₁(t))                       ↪\n",
      "⎢ 2        ⎥   ⎢                               dt                              ↪\n",
      "⎢d         ⎥   ⎢                                                               ↪\n",
      "⎢───(θ₁(t))⎥   ⎢  3⋅k⋅sin(θ₁(t))⋅cos(θ₁(t))   3⋅k⋅sin(θ₂(t))⋅cos(θ₁(t))   3⋅g⋅ ↪\n",
      "⎢  2       ⎥   ⎢- ───────────────────────── + ───────────────────────── - ──── ↪\n",
      "⎢dt        ⎥   ⎢              m                           m                    ↪\n",
      "⎢          ⎥ = ⎢                                                               ↪\n",
      "⎢d         ⎥   ⎢                               d                               ↪\n",
      "⎢──(θ₂(t)) ⎥   ⎢                               ──(θ₂(t))                       ↪\n",
      "⎢dt        ⎥   ⎢                               dt                              ↪\n",
      "⎢          ⎥   ⎢                                                               ↪\n",
      "⎢ 2        ⎥   ⎢ 3⋅k⋅sin(θ₁(t))⋅cos(θ₂(t))   3⋅k⋅sin(θ₂(t))⋅cos(θ₂(t))   3⋅g⋅s ↪\n",
      "⎢d         ⎥   ⎢ ───────────────────────── - ───────────────────────── - ───── ↪\n",
      "⎢───(θ₂(t))⎥   ⎣             m                           m                     ↪\n",
      "⎢  2       ⎥                                                                   ↪\n",
      "⎣dt        ⎦                                                                   ↪\n",
      "\n",
      "↪            \n",
      "↪            \n",
      "↪           ⎤\n",
      "↪           ⎥\n",
      "↪           ⎥\n",
      "↪           ⎥\n",
      "↪ sin(θ₁(t))⎥\n",
      "↪ ──────────⎥\n",
      "↪  2⋅d      ⎥\n",
      "↪           ⎥\n",
      "↪           ⎥\n",
      "↪           ⎥\n",
      "↪           ⎥\n",
      "↪           ⎥\n",
      "↪ in(θ₂(t)) ⎥\n",
      "↪ ───────── ⎥\n",
      "↪ 2⋅d       ⎦\n",
      "↪            \n",
      "↪            \n"
     ]
    }
   ],
   "source": [
    "# Define symbolic variables\n",
    "m, g, d, k, t = symbols('m, g, d, k, t')\n",
    "\n",
    "# Define symbolic variables that depend on time\n",
    "theta1 = Function('theta1')(t)\n",
    "theta2 = Function('theta2')(t)\n",
    "\n",
    "# Take time derivatives of the dynamic variables\n",
    "theta1_dot = diff(theta1, t)\n",
    "theta1_ddot = diff(theta1_dot, t)\n",
    "theta2_dot = diff(theta2, t)\n",
    "theta2_ddot = diff(theta2_dot, t)\n",
    "\n",
    "# Define change in length of the spring\n",
    "delx = d * (sin(theta2) - sin(theta1))\n",
    "\n",
    "# Define Lagrangian which is found by hand calculations\n",
    "T = S(1)/6 * m * d**2 * (theta1_dot**2 + theta2_dot**2)\n",
    "print(T)\n",
    "V_p = S(-1)/2 * m * g * d * (cos(theta1) + cos(theta2))\n",
    "V_e = S(1)/2 * k * delx**2\n",
    "V = V_p + V_e\n",
    "L = T - V\n",
    "\n",
    "eqn_1 = diff(diff(L, theta1_dot), t) - diff(L, theta1)\n",
    "eqn_2 = diff(diff(L, theta2_dot), t) - diff(L, theta2)\n",
    "sln = solve([eqn_1, eqn_2], [theta1_ddot, theta2_ddot])\n",
    "\n",
    "# Define state variables\n",
    "x = Matrix([theta1, theta1_dot, theta2, theta2_dot])\n",
    "f = Matrix([theta1_dot, sln[theta1_ddot], theta2_dot, sln[theta2_ddot]])\n",
    "\n",
    "# Display as a matrix equation\n",
    "matrix_eq = Eq(diff(x, t), f)\n",
    "pprint(matrix_eq)"
   ]
  },
  {
   "cell_type": "code",
   "execution_count": 59,
   "metadata": {},
   "outputs": [
    {
     "name": "stdout",
     "output_type": "stream",
     "text": [
      "f[0] = theta1_dot\n",
      "f[1] = -3*k*sin(theta1)*cos(theta1)/m + 3*k*sin(theta2)*cos(theta1)/m - 3*g*sin(theta1)/(2*d)\n",
      "f[2] = theta2_dot\n",
      "f[3] = 3*k*sin(theta1)*cos(theta2)/m - 3*k*sin(theta2)*cos(theta2)/m - 3*g*sin(theta2)/(2*d)\n"
     ]
    }
   ],
   "source": [
    "# write each row of f in ASCII text, suitable for inclusion in simulation code\n",
    "g = f.subs({theta1: 'theta1', theta1_dot: 'theta1_dot', theta2: 'theta2', theta2_dot: 'theta2_dot'})\n",
    "for i in range(4):\n",
    "    print('f[{}] = {}'.format(i, g[i]))"
   ]
  }
 ],
 "metadata": {
  "kernelspec": {
   "display_name": "gpuenv",
   "language": "python",
   "name": "python3"
  },
  "language_info": {
   "codemirror_mode": {
    "name": "ipython",
    "version": 3
   },
   "file_extension": ".py",
   "mimetype": "text/x-python",
   "name": "python",
   "nbconvert_exporter": "python",
   "pygments_lexer": "ipython3",
   "version": "3.10.14"
  }
 },
 "nbformat": 4,
 "nbformat_minor": 2
}
